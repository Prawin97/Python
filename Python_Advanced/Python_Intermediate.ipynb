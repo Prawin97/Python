{
 "cells": [
  {
   "cell_type": "markdown",
   "id": "a90770f2-5560-4bcf-8e4b-618bec2beed7",
   "metadata": {},
   "source": [
    "# Welcome to Python Intemediate"
   ]
  },
  {
   "cell_type": "code",
   "execution_count": null,
   "id": "38754086-cb26-4216-a199-bf7d2cf9aff4",
   "metadata": {},
   "outputs": [],
   "source": []
  }
 ],
 "metadata": {
  "kernelspec": {
   "display_name": "Python 3 (ipykernel)",
   "language": "python",
   "name": "python3"
  },
  "language_info": {
   "codemirror_mode": {
    "name": "ipython",
    "version": 3
   },
   "file_extension": ".py",
   "mimetype": "text/x-python",
   "name": "python",
   "nbconvert_exporter": "python",
   "pygments_lexer": "ipython3",
   "version": "3.9.5"
  }
 },
 "nbformat": 4,
 "nbformat_minor": 5
}
