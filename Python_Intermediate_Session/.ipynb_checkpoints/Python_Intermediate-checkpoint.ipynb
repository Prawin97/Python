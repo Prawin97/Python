{
 "cells": [
  {
   "cell_type": "markdown",
   "id": "9ae4a2d2",
   "metadata": {
    "slideshow": {
     "slide_type": "slide"
    }
   },
   "source": [
    "# Index and Slices"
   ]
  },
  {
   "cell_type": "markdown",
   "id": "7cadb9cc",
   "metadata": {
    "slideshow": {
     "slide_type": "subslide"
    }
   },
   "source": [
    "<img src = \"img/index_slice.png\" alt = \"Inded and Slices\" height = \"2000\" width = \"2140\" />"
   ]
  },
  {
   "cell_type": "code",
   "execution_count": 19,
   "id": "6bf4b573",
   "metadata": {
    "ExecuteTime": {
     "end_time": "2021-08-22T17:45:30.491744Z",
     "start_time": "2021-08-22T17:45:30.477481Z"
    },
    "slideshow": {
     "slide_type": "subslide"
    }
   },
   "outputs": [],
   "source": [
    "# Code"
   ]
  },
  {
   "cell_type": "markdown",
   "id": "under-differential",
   "metadata": {
    "slideshow": {
     "slide_type": "slide"
    }
   },
   "source": [
    "# Comprehensions"
   ]
  },
  {
   "cell_type": "code",
   "execution_count": 1,
   "id": "configured-phenomenon",
   "metadata": {
    "ExecuteTime": {
     "end_time": "2021-08-22T17:31:50.346745Z",
     "start_time": "2021-08-22T17:31:50.326033Z"
    },
    "scrolled": true,
    "slideshow": {
     "slide_type": "subslide"
    }
   },
   "outputs": [],
   "source": [
    "# List Comprehension"
   ]
  },
  {
   "cell_type": "code",
   "execution_count": 2,
   "id": "fitting-actor",
   "metadata": {
    "ExecuteTime": {
     "end_time": "2021-08-22T17:31:54.623978Z",
     "start_time": "2021-08-22T17:31:54.609045Z"
    },
    "slideshow": {
     "slide_type": "subslide"
    }
   },
   "outputs": [],
   "source": [
    "# Set Comprehension"
   ]
  },
  {
   "cell_type": "code",
   "execution_count": 3,
   "id": "comparable-release",
   "metadata": {
    "ExecuteTime": {
     "end_time": "2021-08-22T17:31:57.949793Z",
     "start_time": "2021-08-22T17:31:57.932680Z"
    },
    "slideshow": {
     "slide_type": "subslide"
    }
   },
   "outputs": [],
   "source": [
    "# Dictionary Comprehension\n"
   ]
  },
  {
   "cell_type": "markdown",
   "id": "handmade-warrior",
   "metadata": {
    "slideshow": {
     "slide_type": "slide"
    }
   },
   "source": [
    "# Methods"
   ]
  },
  {
   "cell_type": "markdown",
   "id": "pointed-earthquake",
   "metadata": {
    "slideshow": {
     "slide_type": "subslide"
    }
   },
   "source": [
    "1. Method is called by its name, but it is associated to an object (dependent)<br><br>\n",
    "2. Method is implicitly passed the object on which it is invoked. <br><bR>\n",
    "3. It may or may not return any data.<br><br>\n",
    "4. Method can operate on the data (instance variables) that is contained by a class</font></h5>"
   ]
  },
  {
   "cell_type": "markdown",
   "id": "legal-toyota",
   "metadata": {
    "slideshow": {
     "slide_type": "slide"
    }
   },
   "source": [
    "# String Methods"
   ]
  },
  {
   "cell_type": "code",
   "execution_count": 4,
   "id": "violent-cosmetic",
   "metadata": {
    "ExecuteTime": {
     "end_time": "2021-08-22T17:32:07.441634Z",
     "start_time": "2021-08-22T17:32:07.432417Z"
    },
    "slideshow": {
     "slide_type": "subslide"
    }
   },
   "outputs": [],
   "source": [
    "# Code"
   ]
  },
  {
   "cell_type": "markdown",
   "id": "gorgeous-guatemala",
   "metadata": {
    "slideshow": {
     "slide_type": "slide"
    }
   },
   "source": [
    "# List Methods"
   ]
  },
  {
   "cell_type": "code",
   "execution_count": 5,
   "id": "meaning-crowd",
   "metadata": {
    "ExecuteTime": {
     "end_time": "2021-08-22T17:32:13.352541Z",
     "start_time": "2021-08-22T17:32:13.332321Z"
    },
    "slideshow": {
     "slide_type": "subslide"
    }
   },
   "outputs": [],
   "source": [
    "# Code"
   ]
  },
  {
   "cell_type": "markdown",
   "id": "dressed-hydrogen",
   "metadata": {
    "slideshow": {
     "slide_type": "slide"
    }
   },
   "source": [
    "# Set Methods"
   ]
  },
  {
   "cell_type": "code",
   "execution_count": 6,
   "id": "gross-bristol",
   "metadata": {
    "ExecuteTime": {
     "end_time": "2021-08-22T17:32:22.910525Z",
     "start_time": "2021-08-22T17:32:22.888662Z"
    },
    "slideshow": {
     "slide_type": "subslide"
    }
   },
   "outputs": [],
   "source": [
    "# Code"
   ]
  },
  {
   "cell_type": "markdown",
   "id": "sized-antigua",
   "metadata": {
    "slideshow": {
     "slide_type": "slide"
    }
   },
   "source": [
    "# Dictionary Methods"
   ]
  },
  {
   "cell_type": "code",
   "execution_count": 7,
   "id": "underlying-practice",
   "metadata": {
    "ExecuteTime": {
     "end_time": "2021-08-22T17:32:27.054374Z",
     "start_time": "2021-08-22T17:32:27.036099Z"
    },
    "slideshow": {
     "slide_type": "subslide"
    }
   },
   "outputs": [],
   "source": [
    "# Code"
   ]
  },
  {
   "cell_type": "markdown",
   "id": "domestic-lucas",
   "metadata": {
    "slideshow": {
     "slide_type": "slide"
    }
   },
   "source": [
    "# Tuple Methods"
   ]
  },
  {
   "cell_type": "code",
   "execution_count": 8,
   "id": "swiss-reward",
   "metadata": {
    "ExecuteTime": {
     "end_time": "2021-08-22T17:32:32.894856Z",
     "start_time": "2021-08-22T17:32:32.875555Z"
    },
    "slideshow": {
     "slide_type": "subslide"
    }
   },
   "outputs": [],
   "source": [
    "# Code"
   ]
  },
  {
   "cell_type": "markdown",
   "id": "horizontal-irish",
   "metadata": {
    "slideshow": {
     "slide_type": "slide"
    }
   },
   "source": [
    "# Lambda functions"
   ]
  },
  {
   "cell_type": "code",
   "execution_count": 9,
   "id": "governmental-battery",
   "metadata": {
    "ExecuteTime": {
     "end_time": "2021-08-22T17:32:40.572578Z",
     "start_time": "2021-08-22T17:32:40.556197Z"
    },
    "slideshow": {
     "slide_type": "subslide"
    }
   },
   "outputs": [],
   "source": [
    "# Code"
   ]
  },
  {
   "cell_type": "markdown",
   "id": "korean-geometry",
   "metadata": {
    "slideshow": {
     "slide_type": "slide"
    }
   },
   "source": [
    "# Insight - Built in Functions"
   ]
  },
  {
   "cell_type": "markdown",
   "id": "expressed-interval",
   "metadata": {
    "slideshow": {
     "slide_type": "subslide"
    }
   },
   "source": [
    "## print( )"
   ]
  },
  {
   "cell_type": "code",
   "execution_count": 10,
   "id": "offensive-position",
   "metadata": {
    "ExecuteTime": {
     "end_time": "2021-08-22T17:32:47.228120Z",
     "start_time": "2021-08-22T17:32:47.201186Z"
    },
    "code_folding": [],
    "slideshow": {
     "slide_type": "subslide"
    }
   },
   "outputs": [],
   "source": [
    "# Code"
   ]
  },
  {
   "cell_type": "markdown",
   "id": "aerial-format",
   "metadata": {
    "slideshow": {
     "slide_type": "subslide"
    }
   },
   "source": [
    "## dir( )"
   ]
  },
  {
   "cell_type": "code",
   "execution_count": 11,
   "id": "hollywood-background",
   "metadata": {
    "ExecuteTime": {
     "end_time": "2021-08-22T17:32:52.455589Z",
     "start_time": "2021-08-22T17:32:52.438941Z"
    },
    "slideshow": {
     "slide_type": "subslide"
    }
   },
   "outputs": [],
   "source": [
    "# Code"
   ]
  },
  {
   "cell_type": "markdown",
   "id": "improved-boost",
   "metadata": {
    "slideshow": {
     "slide_type": "subslide"
    }
   },
   "source": [
    "## enumerate( )"
   ]
  },
  {
   "cell_type": "code",
   "execution_count": 12,
   "id": "statutory-porter",
   "metadata": {
    "ExecuteTime": {
     "end_time": "2021-08-22T17:32:56.818246Z",
     "start_time": "2021-08-22T17:32:56.799594Z"
    },
    "slideshow": {
     "slide_type": "subslide"
    }
   },
   "outputs": [],
   "source": [
    "# Code"
   ]
  },
  {
   "cell_type": "markdown",
   "id": "extraordinary-extreme",
   "metadata": {
    "slideshow": {
     "slide_type": "subslide"
    }
   },
   "source": [
    "## map( ) and filter( )\n",
    "\n",
    "### - map(function, iterable)\n",
    "\n",
    "### - filter(function, Iterable)"
   ]
  },
  {
   "cell_type": "code",
   "execution_count": 13,
   "id": "qualified-dayton",
   "metadata": {
    "ExecuteTime": {
     "end_time": "2021-08-22T17:33:12.139085Z",
     "start_time": "2021-08-22T17:33:12.115925Z"
    },
    "slideshow": {
     "slide_type": "subslide"
    }
   },
   "outputs": [],
   "source": [
    "# map function\n",
    "\n",
    "\n",
    "# filter function"
   ]
  },
  {
   "cell_type": "markdown",
   "id": "impossible-paper",
   "metadata": {
    "slideshow": {
     "slide_type": "subslide"
    }
   },
   "source": [
    "## open( )"
   ]
  },
  {
   "cell_type": "code",
   "execution_count": 14,
   "id": "japanese-myrtle",
   "metadata": {
    "ExecuteTime": {
     "end_time": "2021-08-22T17:33:27.050515Z",
     "start_time": "2021-08-22T17:33:27.031789Z"
    },
    "slideshow": {
     "slide_type": "subslide"
    }
   },
   "outputs": [],
   "source": [
    "# Code"
   ]
  },
  {
   "cell_type": "markdown",
   "id": "golden-heaven",
   "metadata": {
    "slideshow": {
     "slide_type": "subslide"
    }
   },
   "source": [
    "## input()"
   ]
  },
  {
   "cell_type": "code",
   "execution_count": 15,
   "id": "sudden-cambodia",
   "metadata": {
    "ExecuteTime": {
     "end_time": "2021-08-22T17:33:31.426057Z",
     "start_time": "2021-08-22T17:33:31.410560Z"
    },
    "slideshow": {
     "slide_type": "subslide"
    }
   },
   "outputs": [],
   "source": [
    "# Code"
   ]
  },
  {
   "cell_type": "markdown",
   "id": "recovered-financing",
   "metadata": {
    "slideshow": {
     "slide_type": "subslide"
    }
   },
   "source": [
    "## reversed( )"
   ]
  },
  {
   "cell_type": "code",
   "execution_count": 16,
   "id": "dominant-pocket",
   "metadata": {
    "ExecuteTime": {
     "end_time": "2021-08-22T17:33:37.212203Z",
     "start_time": "2021-08-22T17:33:37.193330Z"
    },
    "slideshow": {
     "slide_type": "subslide"
    }
   },
   "outputs": [],
   "source": [
    "# Code"
   ]
  },
  {
   "cell_type": "markdown",
   "id": "boolean-nicaragua",
   "metadata": {
    "slideshow": {
     "slide_type": "subslide"
    }
   },
   "source": [
    "## sorted( )"
   ]
  },
  {
   "cell_type": "code",
   "execution_count": 17,
   "id": "decreased-locking",
   "metadata": {
    "ExecuteTime": {
     "end_time": "2021-08-22T17:33:42.186760Z",
     "start_time": "2021-08-22T17:33:42.172222Z"
    },
    "scrolled": true,
    "slideshow": {
     "slide_type": "subslide"
    }
   },
   "outputs": [],
   "source": [
    "# Code"
   ]
  },
  {
   "cell_type": "markdown",
   "id": "empirical-spectacular",
   "metadata": {
    "slideshow": {
     "slide_type": "slide"
    }
   },
   "source": [
    "# Importing"
   ]
  },
  {
   "cell_type": "code",
   "execution_count": 18,
   "id": "royal-transaction",
   "metadata": {
    "ExecuteTime": {
     "end_time": "2021-08-22T17:33:45.909063Z",
     "start_time": "2021-08-22T17:33:45.891275Z"
    },
    "slideshow": {
     "slide_type": "subslide"
    }
   },
   "outputs": [],
   "source": [
    "# Code"
   ]
  },
  {
   "cell_type": "markdown",
   "id": "disciplinary-belarus",
   "metadata": {
    "slideshow": {
     "slide_type": "slide"
    }
   },
   "source": [
    "# Difference between Modules and Packages"
   ]
  },
  {
   "cell_type": "markdown",
   "id": "international-canon",
   "metadata": {
    "slideshow": {
     "slide_type": "subslide"
    }
   },
   "source": [
    "<h6><font face= \"Helvetica\" color = #273746>MODULE: The module is a simple Python file that contains collections of functions and global variables and with having a .py extension file</font></h6>\n",
    "<h6><font face= \"Helvetica\" color = #6a1b9a>PACKAGE: The package is a simple directory having collections of modules. This directory contains Python modules and also having __init__.py file by which the interpreter interprets it as a Package. The package is simply a namespace. The package also contains sub-packages inside it.</font></h6>\n"
   ]
  },
  {
   "cell_type": "code",
   "execution_count": 29,
   "id": "moved-resort",
   "metadata": {
    "slideshow": {
     "slide_type": "subslide"
    }
   },
   "outputs": [],
   "source": [
    "# Code"
   ]
  }
 ],
 "metadata": {
  "celltoolbar": "Slideshow",
  "hide_input": false,
  "kernelspec": {
   "display_name": "Python 3 (ipykernel)",
   "language": "python",
   "name": "python3"
  },
  "language_info": {
   "codemirror_mode": {
    "name": "ipython",
    "version": 3
   },
   "file_extension": ".py",
   "mimetype": "text/x-python",
   "name": "python",
   "nbconvert_exporter": "python",
   "pygments_lexer": "ipython3",
   "version": "3.9.5"
  },
  "toc": {
   "base_numbering": 1,
   "nav_menu": {},
   "number_sections": true,
   "sideBar": true,
   "skip_h1_title": false,
   "title_cell": "Table of Contents",
   "title_sidebar": "Contents",
   "toc_cell": false,
   "toc_position": {
    "height": "calc(100% - 180px)",
    "left": "10px",
    "top": "150px",
    "width": "164.994px"
   },
   "toc_section_display": true,
   "toc_window_display": false
  },
  "varInspector": {
   "cols": {
    "lenName": 16,
    "lenType": 16,
    "lenVar": 40
   },
   "kernels_config": {
    "python": {
     "delete_cmd_postfix": "",
     "delete_cmd_prefix": "del ",
     "library": "var_list.py",
     "varRefreshCmd": "print(var_dic_list())"
    },
    "r": {
     "delete_cmd_postfix": ") ",
     "delete_cmd_prefix": "rm(",
     "library": "var_list.r",
     "varRefreshCmd": "cat(var_dic_list()) "
    }
   },
   "types_to_exclude": [
    "module",
    "function",
    "builtin_function_or_method",
    "instance",
    "_Feature"
   ],
   "window_display": false
  }
 },
 "nbformat": 4,
 "nbformat_minor": 5
}
