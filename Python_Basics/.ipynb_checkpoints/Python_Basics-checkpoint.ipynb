{
 "cells": [
  {
   "cell_type": "markdown",
   "id": "06a9e1df-3c58-4789-9dc6-5e4237212f08",
   "metadata": {},
   "source": [
    "# Welcome to Python Basics"
   ]
  },
  {
   "cell_type": "markdown",
   "id": "e2bac6d0-6976-4709-b03f-971cb5aa7d75",
   "metadata": {
    "slideshow": {
     "slide_type": "slide"
    },
    "tags": []
   },
   "source": [
    "# What ?"
   ]
  },
  {
   "cell_type": "markdown",
   "id": "372be56d-d292-492d-9f22-b55d0b670992",
   "metadata": {
    "slideshow": {
     "slide_type": "subslide"
    },
    "tags": []
   },
   "source": [
    "<font color=\"green\">\n",
    "    <center>\n",
    "    <ul> Interactive </ul>\n",
    "    <ul> functional programming </ul>\n",
    "    <ul> High level programming language </ul>\n",
    "    <ul> Syntax is English </ul>\n",
    "    <ul> Object Oriented Programming </ul>\n",
    "    <ul> Guido Van Rossum </ul>\n",
    "    <ul> 1991 </ul>\n",
    "    </center>\n",
    "</font>"
   ]
  },
  {
   "cell_type": "code",
   "execution_count": null,
   "id": "b6d6d533-ae15-49f3-ab2c-fa1b06ccd4af",
   "metadata": {},
   "outputs": [],
   "source": []
  }
 ],
 "metadata": {
  "kernelspec": {
   "display_name": "Python 3 (ipykernel)",
   "language": "python",
   "name": "python3"
  },
  "language_info": {
   "codemirror_mode": {
    "name": "ipython",
    "version": 3
   },
   "file_extension": ".py",
   "mimetype": "text/x-python",
   "name": "python",
   "nbconvert_exporter": "python",
   "pygments_lexer": "ipython3",
   "version": "3.9.5"
  }
 },
 "nbformat": 4,
 "nbformat_minor": 5
}
