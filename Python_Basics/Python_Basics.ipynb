{
 "cells": [
  {
   "cell_type": "markdown",
   "id": "06a9e1df-3c58-4789-9dc6-5e4237212f08",
   "metadata": {},
   "source": [
    "# Welcome to Python Basics"
   ]
  },
  {
   "cell_type": "markdown",
   "id": "e2bac6d0-6976-4709-b03f-971cb5aa7d75",
   "metadata": {
    "slideshow": {
     "slide_type": "slide"
    },
    "tags": []
   },
   "source": [
    "# What ?"
   ]
  },
  {
   "cell_type": "markdown",
   "id": "372be56d-d292-492d-9f22-b55d0b670992",
   "metadata": {
    "slideshow": {
     "slide_type": "subslide"
    },
    "tags": []
   },
   "source": [
    "  \n",
    "   * Interactive \n",
    "   * functional programming \n",
    "   * High level programming language \n",
    "   * Syntax is English \n",
    "   * Object Oriented Programming \n",
    "   * Guido Van Rossum \n",
    "   * 1991 \n"
   ]
  },
  {
   "cell_type": "markdown",
   "id": "f826969c-5440-40a8-8f6f-1b9588db6af1",
   "metadata": {},
   "source": [
    "# Why ?"
   ]
  },
  {
   "cell_type": "markdown",
   "id": "a3fd4469-ad68-4a71-9db4-d31fac96f2ba",
   "metadata": {},
   "source": [
    "   * Simple to learn\n",
    "   * Dynamic Typing and Dynamic Binding\n",
    "   * Huge Community Support"
   ]
  },
  {
   "cell_type": "code",
   "execution_count": null,
   "id": "c1a975e3-7aca-4ea0-a438-3cb3a03a6a89",
   "metadata": {},
   "outputs": [],
   "source": []
  }
 ],
 "metadata": {
  "kernelspec": {
   "display_name": "Python 3 (ipykernel)",
   "language": "python",
   "name": "python3"
  },
  "language_info": {
   "codemirror_mode": {
    "name": "ipython",
    "version": 3
   },
   "file_extension": ".py",
   "mimetype": "text/x-python",
   "name": "python",
   "nbconvert_exporter": "python",
   "pygments_lexer": "ipython3",
   "version": "3.8.10"
  }
 },
 "nbformat": 4,
 "nbformat_minor": 5
}
