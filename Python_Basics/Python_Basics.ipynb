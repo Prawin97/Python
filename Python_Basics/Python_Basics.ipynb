{
 "cells": [
  {
   "cell_type": "markdown",
   "id": "06a9e1df-3c58-4789-9dc6-5e4237212f08",
   "metadata": {},
   "source": [
    "# Welcome to Python"
   ]
  },
  {
   "cell_type": "code",
   "execution_count": null,
   "id": "c778e038-9343-4963-9e46-3c80f1597bee",
   "metadata": {},
   "outputs": [],
   "source": []
  }
 ],
 "metadata": {
  "kernelspec": {
   "display_name": "Python 3 (ipykernel)",
   "language": "python",
   "name": "python3"
  },
  "language_info": {
   "codemirror_mode": {
    "name": "ipython",
    "version": 3
   },
   "file_extension": ".py",
   "mimetype": "text/x-python",
   "name": "python",
   "nbconvert_exporter": "python",
   "pygments_lexer": "ipython3",
   "version": "3.9.5"
  }
 },
 "nbformat": 4,
 "nbformat_minor": 5
}
