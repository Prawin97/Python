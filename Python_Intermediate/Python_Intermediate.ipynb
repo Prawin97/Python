{
 "cells": [
  {
   "cell_type": "markdown",
   "id": "ee8e42e4-07fc-4151-902f-440bcd67a759",
   "metadata": {
    "tags": []
   },
   "source": [
    "# Welcome to Python Intermediate"
   ]
  },
  {
   "cell_type": "code",
   "execution_count": null,
   "id": "40ce6357-a772-440b-991d-548ba2b3dbbe",
   "metadata": {},
   "outputs": [],
   "source": []
  }
 ],
 "metadata": {
  "kernelspec": {
   "display_name": "Python 3 (ipykernel)",
   "language": "python",
   "name": "python3"
  },
  "language_info": {
   "codemirror_mode": {
    "name": "ipython",
    "version": 3
   },
   "file_extension": ".py",
   "mimetype": "text/x-python",
   "name": "python",
   "nbconvert_exporter": "python",
   "pygments_lexer": "ipython3",
   "version": "3.9.5"
  }
 },
 "nbformat": 4,
 "nbformat_minor": 5
}
