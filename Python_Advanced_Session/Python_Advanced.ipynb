{
 "cells": [
  {
   "cell_type": "markdown",
   "id": "2064fede",
   "metadata": {
    "slideshow": {
     "slide_type": "slide"
    }
   },
   "source": [
    "# Documentation on Python Advanced Tutorials"
   ]
  },
  {
   "cell_type": "markdown",
   "id": "deadly-effect",
   "metadata": {
    "slideshow": {
     "slide_type": "slide"
    }
   },
   "source": [
    "<img src = \"img/functions.png\" alt = \"About Functions\" height = \"2000\" width = \"2140\">"
   ]
  },
  {
   "cell_type": "markdown",
   "id": "constant-hanging",
   "metadata": {
    "slideshow": {
     "slide_type": "subslide"
    }
   },
   "source": [
    "- **A self-contained block of code that encapsulates a specific task or related group of tasks**\n",
    "- **Code re-usage**"
   ]
  },
  {
   "cell_type": "markdown",
   "id": "d64844d4",
   "metadata": {
    "slideshow": {
     "slide_type": "subslide"
    }
   },
   "source": [
    "```python\n",
    "def function_name(arguments):\n",
    "    \"\"\" doc-string - a short description about the function \"\"\"\n",
    "    # Code block\n",
    "    <statement>\n",
    "    print(output1)\n",
    "    print(output2)\n",
    "```\n",
    "<br>\n",
    "\n",
    "```python\n",
    "def function_name(arguments):\n",
    "    \"\"\" doc-string - a short description about the function \"\"\"\n",
    "    # Code block\n",
    "    <statement>\n",
    "    return output1, output2\n",
    "```\n"
   ]
  },
  {
   "cell_type": "markdown",
   "id": "distributed-behalf",
   "metadata": {
    "slideshow": {
     "slide_type": "subslide"
    }
   },
   "source": [
    "### Functions with default arguments"
   ]
  },
  {
   "cell_type": "code",
   "execution_count": 1,
   "id": "801d0b15",
   "metadata": {
    "ExecuteTime": {
     "end_time": "2021-08-27T18:10:35.024146Z",
     "start_time": "2021-08-27T18:10:35.016587Z"
    },
    "slideshow": {
     "slide_type": "subslide"
    }
   },
   "outputs": [],
   "source": [
    "# Code"
   ]
  },
  {
   "cell_type": "markdown",
   "id": "circular-kernel",
   "metadata": {
    "slideshow": {
     "slide_type": "subslide"
    }
   },
   "source": [
    "### Positional Arguments Function"
   ]
  },
  {
   "cell_type": "code",
   "execution_count": 2,
   "id": "hawaiian-aside",
   "metadata": {
    "ExecuteTime": {
     "end_time": "2021-08-27T18:10:41.927399Z",
     "start_time": "2021-08-27T18:10:41.922399Z"
    },
    "slideshow": {
     "slide_type": "subslide"
    }
   },
   "outputs": [],
   "source": [
    "# Code"
   ]
  },
  {
   "cell_type": "markdown",
   "id": "purple-adolescent",
   "metadata": {
    "slideshow": {
     "slide_type": "subslide"
    }
   },
   "source": [
    "### Keyword Arguments Function"
   ]
  },
  {
   "cell_type": "code",
   "execution_count": 3,
   "id": "qualified-breeding",
   "metadata": {
    "ExecuteTime": {
     "end_time": "2021-08-27T18:10:48.567372Z",
     "start_time": "2021-08-27T18:10:48.562367Z"
    },
    "slideshow": {
     "slide_type": "subslide"
    }
   },
   "outputs": [],
   "source": [
    "# Code"
   ]
  },
  {
   "cell_type": "markdown",
   "id": "incredible-switch",
   "metadata": {
    "slideshow": {
     "slide_type": "subslide"
    }
   },
   "source": [
    "\n",
    "### Closure and Nested Functions"
   ]
  },
  {
   "cell_type": "markdown",
   "id": "finished-hospital",
   "metadata": {
    "slideshow": {
     "slide_type": "subslide"
    }
   },
   "source": [
    "<h4><font face= \"Helvetica\" color = DarkCyan>A Closure is an inner function that remembers and has access to variables in the local scope that its created even after outer function finished executed</font></h4>"
   ]
  },
  {
   "cell_type": "code",
   "execution_count": 5,
   "id": "a727b3bf",
   "metadata": {
    "ExecuteTime": {
     "end_time": "2021-08-27T18:11:38.787949Z",
     "start_time": "2021-08-27T18:11:38.783951Z"
    },
    "slideshow": {
     "slide_type": "subslide"
    }
   },
   "outputs": [],
   "source": [
    "# Code"
   ]
  },
  {
   "cell_type": "code",
   "execution_count": 4,
   "id": "outer-typing",
   "metadata": {
    "ExecuteTime": {
     "end_time": "2021-08-27T18:11:14.836126Z",
     "start_time": "2021-08-27T18:11:14.832135Z"
    },
    "slideshow": {
     "slide_type": "subslide"
    }
   },
   "outputs": [],
   "source": [
    "# Example Code"
   ]
  },
  {
   "cell_type": "markdown",
   "id": "national-concept",
   "metadata": {
    "slideshow": {
     "slide_type": "slide"
    }
   },
   "source": [
    "<img src = \"img/decorators.png\" alt = \"Decorators\" height = \"2000\" width = \"2140\">"
   ]
  },
  {
   "cell_type": "markdown",
   "id": "binding-regular",
   "metadata": {
    "slideshow": {
     "slide_type": "subslide"
    }
   },
   "source": [
    "- Decorator functions are software design patters. \n",
    "- They dynamically alter the functionality of a function, method or class without having to directly use the subclasses or change the source code of the decorated function\n",
    "- Decorators augment the behavior of the other functions or methods. \n",
    "- Any function that takes a function as a parameter and returns an augmented function can be used a decorator"
   ]
  },
  {
   "cell_type": "code",
   "execution_count": 6,
   "id": "solid-merchandise",
   "metadata": {
    "ExecuteTime": {
     "end_time": "2021-08-27T18:12:58.201344Z",
     "start_time": "2021-08-27T18:12:58.192982Z"
    },
    "slideshow": {
     "slide_type": "subslide"
    }
   },
   "outputs": [],
   "source": [
    "# Decorator Function"
   ]
  },
  {
   "cell_type": "code",
   "execution_count": 7,
   "id": "photographic-providence",
   "metadata": {
    "ExecuteTime": {
     "end_time": "2021-08-27T18:13:06.227550Z",
     "start_time": "2021-08-27T18:13:06.223546Z"
    },
    "slideshow": {
     "slide_type": "subslide"
    }
   },
   "outputs": [],
   "source": [
    "# Decorator Class"
   ]
  },
  {
   "cell_type": "code",
   "execution_count": 8,
   "id": "alpine-philadelphia",
   "metadata": {
    "ExecuteTime": {
     "end_time": "2021-08-27T18:13:15.073154Z",
     "start_time": "2021-08-27T18:13:15.069167Z"
    },
    "slideshow": {
     "slide_type": "subslide"
    }
   },
   "outputs": [],
   "source": [
    "# Decorator Template"
   ]
  },
  {
   "cell_type": "code",
   "execution_count": 9,
   "id": "83f3e382",
   "metadata": {
    "ExecuteTime": {
     "end_time": "2021-08-27T18:13:23.154520Z",
     "start_time": "2021-08-27T18:13:23.146783Z"
    },
    "slideshow": {
     "slide_type": "subslide"
    }
   },
   "outputs": [],
   "source": [
    "# Example 1\n",
    "# Timing function: time taken for a function call to complete"
   ]
  },
  {
   "cell_type": "code",
   "execution_count": 10,
   "id": "7f327aef",
   "metadata": {
    "ExecuteTime": {
     "end_time": "2021-08-27T18:13:32.106229Z",
     "start_time": "2021-08-27T18:13:32.102240Z"
    },
    "slideshow": {
     "slide_type": "subslide"
    }
   },
   "outputs": [],
   "source": [
    "# Example 2\n",
    "# to print the arguments a function is called with as well as its return value every time the function is called"
   ]
  },
  {
   "cell_type": "markdown",
   "id": "comprehensive-penetration",
   "metadata": {
    "slideshow": {
     "slide_type": "slide"
    }
   },
   "source": [
    "<img src = \"img/generators.png\" alt = \"Generators\" height = \"2000\" width = \"2140\">"
   ]
  },
  {
   "cell_type": "markdown",
   "id": "suspended-concentrate",
   "metadata": {
    "slideshow": {
     "slide_type": "subslide"
    }
   },
   "source": [
    "### Generators are lazy iterators created by generator functions (using yield) or generator expressions\n"
   ]
  },
  {
   "cell_type": "markdown",
   "id": "912ddbd2",
   "metadata": {
    "slideshow": {
     "slide_type": "subslide"
    }
   },
   "source": [
    "### Simple Iterators\n",
    "- Iterator provides a sequence interface to python objects that's memory efficient and considered Pythonic. Behold the beauty of the for-in loop\n",
    "- To Support iteration an object needs to implement the iterator protocol by providing the __iter__ and __next__ dunder methods.\n",
    "- Class-based iterators are only way to write iterable objects in python. Also consider generators and generator expressions"
   ]
  },
  {
   "cell_type": "code",
   "execution_count": 11,
   "id": "institutional-omaha",
   "metadata": {
    "ExecuteTime": {
     "end_time": "2021-08-27T18:13:45.272984Z",
     "start_time": "2021-08-27T18:13:45.267983Z"
    },
    "slideshow": {
     "slide_type": "subslide"
    }
   },
   "outputs": [],
   "source": [
    "# Code"
   ]
  },
  {
   "cell_type": "markdown",
   "id": "ae80307c",
   "metadata": {
    "slideshow": {
     "slide_type": "subslide"
    }
   },
   "source": [
    "### Generator Functions\n",
    "\n",
    "- Generator functions are syntactic sugar for writing objects that support the iterator protocol. Generators abstract away much of the boilerplate code needed when writing class-based iterators.\n",
    "- The yield statement allow you to temporarily suspend execution of a generator function and to pass back values from it.\n",
    "- Generators start raising StopIteration exceptiosn after control flow leaves the generator function by any means other than a yield statement."
   ]
  },
  {
   "cell_type": "code",
   "execution_count": 12,
   "id": "0ac0d175",
   "metadata": {
    "ExecuteTime": {
     "end_time": "2021-08-27T18:13:51.655945Z",
     "start_time": "2021-08-27T18:13:51.648447Z"
    },
    "slideshow": {
     "slide_type": "subslide"
    }
   },
   "outputs": [],
   "source": [
    "# Code"
   ]
  },
  {
   "cell_type": "markdown",
   "id": "eec983a2",
   "metadata": {
    "slideshow": {
     "slide_type": "subslide"
    }
   },
   "source": [
    "### Generator Expressions\n",
    "\n",
    "- Generator expressions are similar to list comprehensions\n",
    "- Once a generator expression is consumed it should be restarted or reused\n",
    "- Generator expressions are best for implementing single \"adhoc\" iterators. For complex iterators, its better to write a generator function or class iterators."
   ]
  },
  {
   "cell_type": "code",
   "execution_count": 13,
   "id": "9fdaa7c1",
   "metadata": {
    "ExecuteTime": {
     "end_time": "2021-08-27T18:13:55.051632Z",
     "start_time": "2021-08-27T18:13:55.048635Z"
    },
    "slideshow": {
     "slide_type": "subslide"
    }
   },
   "outputs": [],
   "source": [
    "# Code"
   ]
  },
  {
   "cell_type": "markdown",
   "id": "apart-grocery",
   "metadata": {
    "slideshow": {
     "slide_type": "slide"
    }
   },
   "source": [
    "<img src = \"img/classes.png\" alt = \"Classes\" height = \"2000\" width = \"2140\">"
   ]
  },
  {
   "cell_type": "markdown",
   "id": "virgin-penny",
   "metadata": {
    "slideshow": {
     "slide_type": "subslide"
    }
   },
   "source": [
    "- **An object is simply a collection of data(variables) and methods(functions) that act on those data.**\n",
    "- **A class is a blueprint of that object**"
   ]
  },
  {
   "cell_type": "code",
   "execution_count": 14,
   "id": "dying-allergy",
   "metadata": {
    "ExecuteTime": {
     "end_time": "2021-08-27T18:14:10.297364Z",
     "start_time": "2021-08-27T18:14:10.292359Z"
    },
    "slideshow": {
     "slide_type": "subslide"
    }
   },
   "outputs": [],
   "source": [
    "# Code"
   ]
  },
  {
   "cell_type": "code",
   "execution_count": 15,
   "id": "frozen-providence",
   "metadata": {
    "ExecuteTime": {
     "end_time": "2021-08-27T18:14:18.039130Z",
     "start_time": "2021-08-27T18:14:18.030908Z"
    },
    "slideshow": {
     "slide_type": "subslide"
    }
   },
   "outputs": [],
   "source": [
    "# Code"
   ]
  },
  {
   "cell_type": "code",
   "execution_count": 16,
   "id": "stock-performance",
   "metadata": {
    "ExecuteTime": {
     "end_time": "2021-08-27T18:14:23.256947Z",
     "start_time": "2021-08-27T18:14:23.250950Z"
    },
    "slideshow": {
     "slide_type": "subslide"
    }
   },
   "outputs": [],
   "source": [
    "# Code\n",
    "# class vs Instance Attributes Pitfall"
   ]
  },
  {
   "cell_type": "code",
   "execution_count": 17,
   "id": "structural-paper",
   "metadata": {
    "ExecuteTime": {
     "end_time": "2021-08-27T18:14:58.042411Z",
     "start_time": "2021-08-27T18:14:58.034873Z"
    },
    "slideshow": {
     "slide_type": "subslide"
    }
   },
   "outputs": [],
   "source": [
    "# Difference between classmethod and staticmethod"
   ]
  },
  {
   "cell_type": "code",
   "execution_count": 18,
   "id": "5df1fa72",
   "metadata": {
    "ExecuteTime": {
     "end_time": "2021-08-27T18:15:10.962737Z",
     "start_time": "2021-08-27T18:15:10.958739Z"
    },
    "slideshow": {
     "slide_type": "subslide"
    }
   },
   "outputs": [],
   "source": [
    "# Class inheritence"
   ]
  },
  {
   "cell_type": "markdown",
   "id": "f633c686",
   "metadata": {
    "slideshow": {
     "slide_type": "slide"
    }
   },
   "source": [
    "# Modules and Libraries"
   ]
  },
  {
   "cell_type": "markdown",
   "id": "930266a4",
   "metadata": {
    "slideshow": {
     "slide_type": "subslide"
    }
   },
   "source": [
    "### Math Module"
   ]
  },
  {
   "cell_type": "code",
   "execution_count": 19,
   "id": "42b0367c",
   "metadata": {
    "ExecuteTime": {
     "end_time": "2021-08-27T18:15:17.697072Z",
     "start_time": "2021-08-27T18:15:17.693069Z"
    },
    "slideshow": {
     "slide_type": "subslide"
    }
   },
   "outputs": [],
   "source": [
    "# Code"
   ]
  },
  {
   "cell_type": "markdown",
   "id": "chinese-oliver",
   "metadata": {
    "slideshow": {
     "slide_type": "subslide"
    }
   },
   "source": [
    "### Operator Module"
   ]
  },
  {
   "cell_type": "code",
   "execution_count": 20,
   "id": "several-million",
   "metadata": {
    "ExecuteTime": {
     "end_time": "2021-08-27T18:15:23.707554Z",
     "start_time": "2021-08-27T18:15:23.703554Z"
    },
    "slideshow": {
     "slide_type": "subslide"
    }
   },
   "outputs": [],
   "source": [
    "# Code"
   ]
  },
  {
   "cell_type": "markdown",
   "id": "87278727",
   "metadata": {
    "slideshow": {
     "slide_type": "subslide"
    }
   },
   "source": [
    "### Collections Module"
   ]
  },
  {
   "cell_type": "code",
   "execution_count": 21,
   "id": "51eddaaf",
   "metadata": {
    "ExecuteTime": {
     "end_time": "2021-08-27T18:15:28.639555Z",
     "start_time": "2021-08-27T18:15:28.636550Z"
    },
    "slideshow": {
     "slide_type": "subslide"
    }
   },
   "outputs": [],
   "source": [
    "# Code"
   ]
  },
  {
   "cell_type": "markdown",
   "id": "88423c5c",
   "metadata": {
    "slideshow": {
     "slide_type": "subslide"
    }
   },
   "source": [
    "### Itertools Module"
   ]
  },
  {
   "cell_type": "code",
   "execution_count": 5,
   "id": "7c47800a",
   "metadata": {
    "slideshow": {
     "slide_type": "subslide"
    }
   },
   "outputs": [],
   "source": [
    "# Code"
   ]
  },
  {
   "cell_type": "markdown",
   "id": "available-promotion",
   "metadata": {
    "slideshow": {
     "slide_type": "subslide"
    }
   },
   "source": [
    "### Json module"
   ]
  },
  {
   "cell_type": "code",
   "execution_count": 22,
   "id": "helpful-things",
   "metadata": {
    "ExecuteTime": {
     "end_time": "2021-08-27T18:15:35.878975Z",
     "start_time": "2021-08-27T18:15:35.872980Z"
    },
    "slideshow": {
     "slide_type": "subslide"
    }
   },
   "outputs": [],
   "source": [
    "# Code"
   ]
  },
  {
   "cell_type": "markdown",
   "id": "muslim-involvement",
   "metadata": {
    "slideshow": {
     "slide_type": "subslide"
    }
   },
   "source": [
    "### Random Module"
   ]
  },
  {
   "cell_type": "code",
   "execution_count": 23,
   "id": "accepting-guinea",
   "metadata": {
    "ExecuteTime": {
     "end_time": "2021-08-27T18:15:40.607249Z",
     "start_time": "2021-08-27T18:15:40.602255Z"
    },
    "slideshow": {
     "slide_type": "subslide"
    }
   },
   "outputs": [],
   "source": [
    "# Code"
   ]
  },
  {
   "cell_type": "markdown",
   "id": "peripheral-buffalo",
   "metadata": {
    "slideshow": {
     "slide_type": "subslide"
    }
   },
   "source": [
    "### csv Module"
   ]
  },
  {
   "cell_type": "code",
   "execution_count": 24,
   "id": "random-boxing",
   "metadata": {
    "ExecuteTime": {
     "end_time": "2021-08-27T18:15:47.658599Z",
     "start_time": "2021-08-27T18:15:47.650695Z"
    },
    "slideshow": {
     "slide_type": "subslide"
    }
   },
   "outputs": [],
   "source": [
    "# Code"
   ]
  },
  {
   "cell_type": "markdown",
   "id": "6fb2d332",
   "metadata": {
    "slideshow": {
     "slide_type": "subslide"
    }
   },
   "source": [
    "### os module"
   ]
  },
  {
   "cell_type": "code",
   "execution_count": 25,
   "id": "fcc5a018",
   "metadata": {
    "ExecuteTime": {
     "end_time": "2021-08-27T18:15:52.028622Z",
     "start_time": "2021-08-27T18:15:52.021246Z"
    },
    "slideshow": {
     "slide_type": "subslide"
    }
   },
   "outputs": [],
   "source": [
    "# Code"
   ]
  },
  {
   "cell_type": "markdown",
   "id": "pregnant-lesbian",
   "metadata": {
    "slideshow": {
     "slide_type": "slide"
    }
   },
   "source": [
    "# Errors & Exceptions"
   ]
  },
  {
   "cell_type": "code",
   "execution_count": null,
   "id": "seventh-document",
   "metadata": {
    "slideshow": {
     "slide_type": "subslide"
    }
   },
   "outputs": [],
   "source": [
    "# Code"
   ]
  }
 ],
 "metadata": {
  "celltoolbar": "Slideshow",
  "hide_input": false,
  "kernelspec": {
   "display_name": "Python 3 (ipykernel)",
   "language": "python",
   "name": "python3"
  },
  "language_info": {
   "codemirror_mode": {
    "name": "ipython",
    "version": 3
   },
   "file_extension": ".py",
   "mimetype": "text/x-python",
   "name": "python",
   "nbconvert_exporter": "python",
   "pygments_lexer": "ipython3",
   "version": "3.8.10"
  },
  "varInspector": {
   "cols": {
    "lenName": 16,
    "lenType": 16,
    "lenVar": 40
   },
   "kernels_config": {
    "python": {
     "delete_cmd_postfix": "",
     "delete_cmd_prefix": "del ",
     "library": "var_list.py",
     "varRefreshCmd": "print(var_dic_list())"
    },
    "r": {
     "delete_cmd_postfix": ") ",
     "delete_cmd_prefix": "rm(",
     "library": "var_list.r",
     "varRefreshCmd": "cat(var_dic_list()) "
    }
   },
   "types_to_exclude": [
    "module",
    "function",
    "builtin_function_or_method",
    "instance",
    "_Feature"
   ],
   "window_display": false
  }
 },
 "nbformat": 4,
 "nbformat_minor": 5
}
